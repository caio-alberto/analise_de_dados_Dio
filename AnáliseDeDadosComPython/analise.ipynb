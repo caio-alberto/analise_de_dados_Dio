{
 "cells": [
  {
   "cell_type": "markdown",
   "metadata": {},
   "source": [
    "    O que é Data Science?\n",
    "\n",
    "    É uma ciência que estuda as informações, seu processo de captura, transformação, geração,\n",
    "e posteriormente, análise de dados.'''\n",
    "\n",
    "''' Biblioteca Pandas!\n",
    "    Pandas é uma biblioteca python de código aberto par análise de dados. Ele dá ao python a\n",
    "capacidade de trabalhar com dados tipo planilha, permitindo carregar, manipular, alinhar e \n",
    "combinar dados rapidamente, entre outras funções.\n"
   ]
  },
  {
   "cell_type": "code",
   "execution_count": null,
   "metadata": {},
   "outputs": [],
   "source": [
    "import pandas as pd # é usado para manipular dados do tipo series e dateframe\n",
    "# usando o parâmetro error_bad_lines como False para ignorar linhas com problemas, e usando sep para\n",
    "# identificar o separador que consta no dataFrame\n",
    "\n",
    "df = pd.read_csv('Gapminder.csv', error_bad_lines = False, sep = ';')\n",
    "\n",
    "df.head()\n"
   ]
  },
  {
   "cell_type": "code",
   "execution_count": null,
   "metadata": {},
   "outputs": [],
   "source": [
    "# transformando em português\n",
    "\n",
    "df = df.rename(columns = {'country':'pais','continent':'continente','year':'ano','lifeExp':'expectativa_vida','pop':'pop_total','gdpPercap':'PIB'})"
   ]
  },
  {
   "cell_type": "code",
   "execution_count": null,
   "metadata": {},
   "outputs": [],
   "source": [
    "df.head(10)"
   ]
  },
  {
   "cell_type": "code",
   "execution_count": null,
   "metadata": {},
   "outputs": [],
   "source": [
    "# verificando o tamanho do df\n",
    "\n",
    "df.shape"
   ]
  },
  {
   "cell_type": "code",
   "execution_count": null,
   "metadata": {},
   "outputs": [],
   "source": [
    "# verificando o nome das colunas\n",
    "\n",
    "df.columns"
   ]
  },
  {
   "cell_type": "code",
   "execution_count": null,
   "metadata": {},
   "outputs": [],
   "source": [
    "# verificando o tipo de dado de cada coluna\n",
    "\n",
    "df.dtypes\n",
    "# df.info()"
   ]
  },
  {
   "cell_type": "code",
   "execution_count": null,
   "metadata": {},
   "outputs": [],
   "source": [
    "# retornando as últimas linhas \n",
    "\n",
    "df.tail(15)"
   ]
  },
  {
   "cell_type": "code",
   "execution_count": null,
   "metadata": {},
   "outputs": [],
   "source": [
    "# retornando informações estatisticas do conjunto de dados\n",
    "\n",
    "df.describe()"
   ]
  },
  {
   "cell_type": "code",
   "execution_count": null,
   "metadata": {},
   "outputs": [],
   "source": [
    "# como fazer filtros no conjunto de dados\n",
    "# verificando os continentes\n",
    "\n",
    "df['continente'].unique()"
   ]
  },
  {
   "cell_type": "code",
   "execution_count": null,
   "metadata": {},
   "outputs": [],
   "source": [
    "# retornando apenas os dados de oceania\n",
    "\n",
    "Oceania = df.loc[df['continente'] == 'Oceania']\n",
    "\n",
    "Oceania.head()"
   ]
  },
  {
   "cell_type": "code",
   "execution_count": null,
   "metadata": {},
   "outputs": [],
   "source": [
    "Oceania['continente'].unique()"
   ]
  },
  {
   "cell_type": "code",
   "execution_count": null,
   "metadata": {},
   "outputs": [],
   "source": [
    "# fazendo agrupamento de dados, contando quantos paises existem dentro de cada continente dentro do dataFrame\n",
    "# usando o nunique para retornar os valores unicos de cada continente\n",
    "\n",
    "df.groupby('continente')['pais'].nunique()"
   ]
  },
  {
   "cell_type": "code",
   "execution_count": null,
   "metadata": {},
   "outputs": [],
   "source": [
    "# mostrando qual a expectativa de vida média por ano de cada pais do dataFrame\n",
    "\n",
    "df.groupby('ano')['expectativa_vida'].mean()"
   ]
  },
  {
   "cell_type": "code",
   "execution_count": null,
   "metadata": {},
   "outputs": [],
   "source": [
    "# retornando a média de PIB\n",
    "\n",
    "df['PIB'].mean()"
   ]
  },
  {
   "cell_type": "code",
   "execution_count": null,
   "metadata": {},
   "outputs": [],
   "source": [
    "# retornando o total de PIB\n",
    "\n",
    "df['PIB'].sum()"
   ]
  }
 ],
 "metadata": {
  "kernelspec": {
   "display_name": "Python 3.9.0 64-bit",
   "language": "python",
   "name": "python3"
  },
  "language_info": {
   "codemirror_mode": {
    "name": "ipython",
    "version": 3
   },
   "file_extension": ".py",
   "mimetype": "text/x-python",
   "name": "python",
   "nbconvert_exporter": "python",
   "pygments_lexer": "ipython3",
   "version": "3.9.0"
  },
  "orig_nbformat": 4,
  "vscode": {
   "interpreter": {
    "hash": "a009a94fea9096953c495188429bf846ed32bda3390630fd89eff4e6164c3289"
   }
  }
 },
 "nbformat": 4,
 "nbformat_minor": 2
}
